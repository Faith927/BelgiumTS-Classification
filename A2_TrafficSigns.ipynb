{
  "nbformat": 4,
  "nbformat_minor": 0,
  "metadata": {
    "colab": {
      "provenance": [],
      "include_colab_link": true
    },
    "kernelspec": {
      "name": "python3",
      "display_name": "Python 3"
    },
    "language_info": {
      "name": "python"
    }
  },
  "cells": [
    {
      "cell_type": "markdown",
      "metadata": {
        "id": "view-in-github",
        "colab_type": "text"
      },
      "source": [
        "<a href=\"https://colab.research.google.com/github/Faith927/Machine-Learning-A2/blob/main/A2_TrafficSigns.ipynb\" target=\"_parent\"><img src=\"https://colab.research.google.com/assets/colab-badge.svg\" alt=\"Open In Colab\"/></a>"
      ]
    },
    {
      "cell_type": "code",
      "execution_count": 1,
      "metadata": {
        "colab": {
          "base_uri": "https://localhost:8080/",
          "height": 159
        },
        "id": "TK4gxogKSqAt",
        "outputId": "f565a032-4b77-447b-96d6-87a077a488fe"
      },
      "outputs": [
        {
          "output_type": "error",
          "ename": "NameError",
          "evalue": "name 'tensorflow' is not defined",
          "traceback": [
            "\u001b[0;31m---------------------------------------------------------------------------\u001b[0m",
            "\u001b[0;31mNameError\u001b[0m                                 Traceback (most recent call last)",
            "\u001b[0;32m<ipython-input-1-35b726895828>\u001b[0m in \u001b[0;36m<cell line: 2>\u001b[0;34m()\u001b[0m\n\u001b[1;32m      1\u001b[0m \u001b[0;32mimport\u001b[0m \u001b[0mtensorflow\u001b[0m \u001b[0;32mas\u001b[0m \u001b[0mtf\u001b[0m\u001b[0;34m\u001b[0m\u001b[0;34m\u001b[0m\u001b[0m\n\u001b[0;32m----> 2\u001b[0;31m \u001b[0mprint\u001b[0m\u001b[0;34m(\u001b[0m\u001b[0mtensorflow\u001b[0m\u001b[0;34m.\u001b[0m\u001b[0m__version__\u001b[0m\u001b[0;34m)\u001b[0m\u001b[0;34m\u001b[0m\u001b[0;34m\u001b[0m\u001b[0m\n\u001b[0m",
            "\u001b[0;31mNameError\u001b[0m: name 'tensorflow' is not defined"
          ]
        }
      ],
      "source": [
        "import tensorflow as tf\n",
        "print(tensorflow.__version__)"
      ]
    },
    {
      "cell_type": "code",
      "source": [
        "from google.colab import drive\n",
        "drive.mount('/content/drive')"
      ],
      "metadata": {
        "colab": {
          "base_uri": "https://localhost:8080/"
        },
        "id": "m5007KsQSy0A",
        "outputId": "12590819-16f0-4d29-d5c5-0ead49ae4a3d"
      },
      "execution_count": 2,
      "outputs": [
        {
          "output_type": "stream",
          "name": "stdout",
          "text": [
            "Drive already mounted at /content/drive; to attempt to forcibly remount, call drive.mount(\"/content/drive\", force_remount=True).\n"
          ]
        }
      ]
    },
    {
      "cell_type": "code",
      "source": [
        "!ls /content/drive/'My Drive'/COSC2673A2/"
      ],
      "metadata": {
        "colab": {
          "base_uri": "https://localhost:8080/"
        },
        "id": "aRQTrluvTijM",
        "outputId": "1000c3a8-9890-4cd5-91d8-9ac1631c2be9"
      },
      "execution_count": 3,
      "outputs": [
        {
          "output_type": "stream",
          "name": "stdout",
          "text": [
            "A2-TrafficSigns.ipynb  German-Traffic-Sign-Recognition.v5i.tfrecord.zip  trafficsigns_dataset.zip\n"
          ]
        }
      ]
    },
    {
      "cell_type": "code",
      "source": [
        "!cp /content/drive/'My Drive'/COSC2673A2/trafficsigns_dataset.zip .\n",
        "!unzip -q -o trafficsigns_dataset.zip\n",
        "!rm trafficsigns_dataset.zip\n",
        "!ls\n"
      ],
      "metadata": {
        "colab": {
          "base_uri": "https://localhost:8080/"
        },
        "id": "2lZHQfpxTlcZ",
        "outputId": "521b7de4-d069-4aa8-de5c-49b30e97b64d"
      },
      "execution_count": 4,
      "outputs": [
        {
          "output_type": "stream",
          "name": "stdout",
          "text": [
            "drive  __MACOSX  sample_data  trafficsigns_dataset\n"
          ]
        }
      ]
    },
    {
      "cell_type": "markdown",
      "source": [
        "#**EDA**"
      ],
      "metadata": {
        "id": "JY5__h7jruor"
      }
    },
    {
      "cell_type": "code",
      "source": [
        "# libraries\n",
        "\n",
        "import os\n",
        "from PIL import Image\n",
        "\n",
        "import matplotlib.pyplot as plt\n",
        "import random\n",
        "\n",
        "import matplotlib.pyplot as plt\n",
        "import pandas as pd\n",
        "import glob\n",
        "import cv2"
      ],
      "metadata": {
        "id": "tM5USEvyrzuv"
      },
      "execution_count": 5,
      "outputs": []
    },
    {
      "cell_type": "code",
      "source": [
        "dataset_folder = 'trafficsigns_dataset'\n",
        "\n",
        "# List subfolders in dataset folder\n",
        "subfolders = [subfolder for subfolder in os.listdir(dataset_folder) if os.path.isdir(os.path.join(dataset_folder, subfolder))]\n",
        "\n",
        "# Iterate over subfolders\n",
        "for subfolder in subfolders:\n",
        "    subfolder_path = os.path.join(dataset_folder, subfolder)\n",
        "    print(f\"Subfolder: {subfolder}\")\n",
        "\n",
        "    # List files in current subfolder\n",
        "    files = os.listdir(subfolder_path)\n",
        "\n",
        "    # Print files in current subfolder\n",
        "    for file in files:\n",
        "        print(f\"  - {file}\")\n"
      ],
      "metadata": {
        "colab": {
          "base_uri": "https://localhost:8080/"
        },
        "id": "2Aa-mnZWBqXO",
        "outputId": "84aa85e9-50d5-4d35-c6bb-e14215d83734"
      },
      "execution_count": 6,
      "outputs": [
        {
          "output_type": "stream",
          "name": "stdout",
          "text": [
            "Subfolder: hex\n",
            "  - stop\n",
            "Subfolder: round\n",
            "  - trafficdirective\n",
            "  - limitedtraffic\n",
            "  - noentry\n",
            "  - roundabout\n",
            "  - noparking\n",
            "  - traveldirection\n",
            "  - bicycle\n",
            "  - speed\n",
            "  - .DS_Store\n",
            "Subfolder: triangle\n",
            "  - warning\n",
            "  - giveway\n",
            "Subfolder: square\n",
            "  - continue\n",
            "  - parking\n",
            "  - laneend\n",
            "  - crossing\n",
            "  - .DS_Store\n",
            "Subfolder: diamond\n",
            "  - rightofway\n"
          ]
        }
      ]
    },
    {
      "cell_type": "code",
      "source": [
        "dataset_folder = 'trafficsigns_dataset'\n",
        "subfolders = ['hex', 'triangle', 'diamond', 'square', 'round']\n",
        "\n",
        "data = []\n",
        "subfolder_variables = {}\n",
        "\n",
        "# Iterate over the main subfolders\n",
        "for label in subfolders:\n",
        "    subfolder_path = Path(dataset_folder) / label\n",
        "\n",
        "    # Initialize empty dictionary for sub-subfolders\n",
        "    subfolder_variables[label] = {}\n",
        "\n",
        "    # Iterate over sub-subfolders\n",
        "    for sub_label in subfolder_path.iterdir():\n",
        "        if sub_label.is_dir():\n",
        "            images = [file for file in sub_label.iterdir() if file.suffix == '.png']\n",
        "            subfolder_variables[label][sub_label.name] = images\n",
        "\n",
        "            # Append image name (full path) and label to the data list for DataFrame creation\n",
        "            data.extend({'image name': str(image), 'label': f\"{label}/{sub_label.name}\"} for image in images)\n",
        "\n",
        "df = pd.DataFrame(data)\n",
        "print(df.head())\n"
      ],
      "metadata": {
        "colab": {
          "base_uri": "https://localhost:8080/"
        },
        "id": "nyqJ9al3UFYR",
        "outputId": "94261271-5783-43b4-b7e7-585adc1ee9f5"
      },
      "execution_count": 14,
      "outputs": [
        {
          "output_type": "stream",
          "name": "stdout",
          "text": [
            "                                      image name     label\n",
            "0  trafficsigns_dataset/hex/stop/01920_00000.png  hex/stop\n",
            "1  trafficsigns_dataset/hex/stop/00685_00001.png  hex/stop\n",
            "2  trafficsigns_dataset/hex/stop/00478_00002.png  hex/stop\n",
            "3  trafficsigns_dataset/hex/stop/00684_00001.png  hex/stop\n",
            "4  trafficsigns_dataset/hex/stop/01258_00001.png  hex/stop\n"
          ]
        }
      ]
    },
    {
      "cell_type": "code",
      "source": [
        "label_counts = df['label'].value_counts()\n",
        "print(label_counts)"
      ],
      "metadata": {
        "colab": {
          "base_uri": "https://localhost:8080/"
        },
        "id": "5T3i44mmObrL",
        "outputId": "274c1254-73a0-4678-f5d9-797b67499d48"
      },
      "execution_count": 15,
      "outputs": [
        {
          "output_type": "stream",
          "name": "stdout",
          "text": [
            "label\n",
            "triangle/warning          695\n",
            "round/noentry             375\n",
            "round/speed               316\n",
            "round/bicycle             285\n",
            "diamond/rightofway        282\n",
            "square/parking            276\n",
            "round/noparking           242\n",
            "triangle/giveway          231\n",
            "square/continue           199\n",
            "round/trafficdirective    195\n",
            "round/limitedtraffic      125\n",
            "round/traveldirection     124\n",
            "square/laneend            118\n",
            "round/roundabout           98\n",
            "square/crossing            95\n",
            "hex/stop                   43\n",
            "Name: count, dtype: int64\n"
          ]
        }
      ]
    },
    {
      "cell_type": "code",
      "source": [
        "# Plotting length of each label with bar chart\n",
        "plt.figure(figsize=(10, 6))\n",
        "\n",
        "# Create a bar plot\n",
        "label_counts.plot(kind='bar', color='skyblue')\n",
        "\n",
        "plt.title('Frequency of Labels')\n",
        "plt.xlabel('Label')\n",
        "plt.ylabel('Frequency')\n",
        "plt.xticks(rotation=45, ha='right')\n",
        "plt.tight_layout()\n",
        "plt.show()\n"
      ],
      "metadata": {
        "colab": {
          "base_uri": "https://localhost:8080/",
          "height": 607
        },
        "id": "LG9IRCaOOeAC",
        "outputId": "8dacf1c3-011c-4b46-dbc6-5ea1514fa73d"
      },
      "execution_count": 16,
      "outputs": [
        {
          "output_type": "display_data",
          "data": {
            "text/plain": [
              "<Figure size 1000x600 with 1 Axes>"
            ],
            "image/png": "[encoded data removed]"
          },
          "metadata": {}
        }
      ]
    },
    {
      "cell_type": "code",
      "source": [
        "print(subfolder_variables['hex']['stop'])"
      ],
      "metadata": {
        "colab": {
          "base_uri": "https://localhost:8080/"
        },
        "id": "ebT3JMgRRZ15",
        "outputId": "9dfbc8c4-8e6c-454d-a0de-dc7fa7e3398f"
      },
      "execution_count": 17,
      "outputs": [
        {
          "output_type": "stream",
          "name": "stdout",
          "text": [
            "[PosixPath('trafficsigns_dataset/hex/stop/01920_00000.png'), PosixPath('trafficsigns_dataset/hex/stop/00685_00001.png'), PosixPath('trafficsigns_dataset/hex/stop/00478_00002.png'), PosixPath('trafficsigns_dataset/hex/stop/00684_00001.png'), PosixPath('trafficsigns_dataset/hex/stop/01258_00001.png'), PosixPath('trafficsigns_dataset/hex/stop/01162_00000.png'), PosixPath('trafficsigns_dataset/hex/stop/00684_00002.png'), PosixPath('trafficsigns_dataset/hex/stop/00715_00001.png'), PosixPath('trafficsigns_dataset/hex/stop/01258_00002.png'), PosixPath('trafficsigns_dataset/hex/stop/00375_00001.png'), PosixPath('trafficsigns_dataset/hex/stop/01162_00002.png'), PosixPath('trafficsigns_dataset/hex/stop/00684_00000.png'), PosixPath('trafficsigns_dataset/hex/stop/00478_00001.png'), PosixPath('trafficsigns_dataset/hex/stop/00554_00001.png'), PosixPath('trafficsigns_dataset/hex/stop/01832_00000.png'), PosixPath('trafficsigns_dataset/hex/stop/00715_00003.png'), PosixPath('trafficsigns_dataset/hex/stop/01811_00001.png'), PosixPath('trafficsigns_dataset/hex/stop/00554_00000.png'), PosixPath('trafficsigns_dataset/hex/stop/00554_00002.png'), PosixPath('trafficsigns_dataset/hex/stop/00375_00002.png'), PosixPath('trafficsigns_dataset/hex/stop/01951_00000.png'), PosixPath('trafficsigns_dataset/hex/stop/00715_00000.png'), PosixPath('trafficsigns_dataset/hex/stop/01920_00001.png'), PosixPath('trafficsigns_dataset/hex/stop/00715_00002.png'), PosixPath('trafficsigns_dataset/hex/stop/00375_00000.png'), PosixPath('trafficsigns_dataset/hex/stop/00546_00000.png'), PosixPath('trafficsigns_dataset/hex/stop/01920_00002.png'), PosixPath('trafficsigns_dataset/hex/stop/00546_00002.png'), PosixPath('trafficsigns_dataset/hex/stop/01868_00000.png'), PosixPath('trafficsigns_dataset/hex/stop/01868_00002.png'), PosixPath('trafficsigns_dataset/hex/stop/01162_00001.png'), PosixPath('trafficsigns_dataset/hex/stop/01832_00002.png'), PosixPath('trafficsigns_dataset/hex/stop/01811_00000.png'), PosixPath('trafficsigns_dataset/hex/stop/01951_00001.png'), PosixPath('trafficsigns_dataset/hex/stop/00478_00000.png'), PosixPath('trafficsigns_dataset/hex/stop/00546_00001.png'), PosixPath('trafficsigns_dataset/hex/stop/00685_00002.png'), PosixPath('trafficsigns_dataset/hex/stop/01811_00002.png'), PosixPath('trafficsigns_dataset/hex/stop/01951_00002.png'), PosixPath('trafficsigns_dataset/hex/stop/01832_00001.png'), PosixPath('trafficsigns_dataset/hex/stop/01258_00000.png'), PosixPath('trafficsigns_dataset/hex/stop/01868_00001.png'), PosixPath('trafficsigns_dataset/hex/stop/00685_00000.png')]\n"
          ]
        }
      ]
    },
    {
      "cell_type": "code",
      "source": [
        "def random_image(pic_list, sample_size=4):\n",
        "    '''Display a random sample of images from pic_list'''\n",
        "    fig = plt.gcf()\n",
        "    fig.set_size_inches(16, 16)  # fig size\n",
        "\n",
        "    # Randomly select a subset of images from pic_list\n",
        "    sampled_images = random.sample(pic_list, min(sample_size, len(pic_list)))\n",
        "\n",
        "    # Load and display the sampled images\n",
        "    for i, img_path in enumerate(sampled_images):\n",
        "        img = Image.open(img_path)\n",
        "        sp = plt.subplot(1, sample_size, i + 1)\n",
        "        sp.axis('Off')\n",
        "        plt.imshow(img)\n",
        "\n",
        "    plt.show()\n",
        "\n",
        "# show stop subfolder of hex\n",
        "random_image(subfolder_variables['hex']['stop'], sample_size=4)\n"
      ],
      "metadata": {
        "id": "HJjoLHr8tMtV",
        "colab": {
          "base_uri": "https://localhost:8080/",
          "height": 306
        },
        "outputId": "08b38523-337b-4070-ac38-8ec5aa6f104d"
      },
      "execution_count": 20,
      "outputs": [
        {
          "output_type": "display_data",
          "data": {
            "text/plain": [
              "<Figure size 1600x1600 with 4 Axes>"
            ],
            "image/png": "[encoded data removed]"
          },
          "metadata": {}
        }
      ]
    },
    {
      "cell_type": "code",
      "source": [
        "# show stop subfolder of hex\n",
        "random_image(subfolder_variables['triangle']['warning'], sample_size=4)"
      ],
      "metadata": {
        "colab": {
          "base_uri": "https://localhost:8080/",
          "height": 306
        },
        "id": "2OLRVG-QEGr4",
        "outputId": "12841f2a-40a4-4744-cbf9-9cd953a17a37"
      },
      "execution_count": 21,
      "outputs": [
        {
          "output_type": "display_data",
          "data": {
            "text/plain": [
              "<Figure size 1600x1600 with 4 Axes>"
            ],
            "image/png": "[encoded data removed]"
          },
          "metadata": {}
        }
      ]
    },
    {
      "cell_type": "code",
      "source": [
        "# show stop subfolder of hex\n",
        "random_image(subfolder_variables['round']['limitedtraffic'], sample_size=4)"
      ],
      "metadata": {
        "colab": {
          "base_uri": "https://localhost:8080/",
          "height": 306
        },
        "id": "od9RnwF0It7y",
        "outputId": "13677651-6b40-43d6-8678-ea7ad82c5ed3"
      },
      "execution_count": 22,
      "outputs": [
        {
          "output_type": "display_data",
          "data": {
            "text/plain": [
              "<Figure size 1600x1600 with 4 Axes>"
            ],
            "image/png": "[encoded data removed]"
          },
          "metadata": {}
        }
      ]
    },
    {
      "cell_type": "code",
      "source": [
        "# double check shape of images\n",
        "for i in range(len(df)):\n",
        "    image_path = df.loc[i, 'image name']\n",
        "    image = plt.imread(image_path)\n",
        "    image_shape = image.shape\n",
        "    print(f\"Image at index {i}: Shape = {image_shape}\")"
      ],
      "metadata": {
        "id": "BG5JvH5QJCND",
        "outputId": "abaf0255-877b-4014-83be-aa9a1267b254",
        "colab": {
          "base_uri": "https://localhost:8080/"
        }
      },
      "execution_count": 19,
      "outputs": [
        {
          "output_type": "stream",
          "name": "stdout",
          "text": [
            "Image at index 3178: Shape = (28, 28)\n",
            "Image at index 3179: Shape = (28, 28)\n",
            "Image at index 3180: Shape = (28, 28)\n",
            "Image at index 3181: Shape = (28, 28)\n",
            "Image at index 3182: Shape = (28, 28)\n",
            "Image at index 3183: Shape = (28, 28)\n",
            "Image at index 3184: Shape = (28, 28)\n",
            "Image at index 3185: Shape = (28, 28)\n",
            "Image at index 3186: Shape = (28, 28)\n",
            "Image at index 3187: Shape = (28, 28)\n",
            "Image at index 3188: Shape = (28, 28)\n",
            "Image at index 3189: Shape = (28, 28)\n",
            "Image at index 3190: Shape = (28, 28)\n",
            "Image at index 3191: Shape = (28, 28)\n",
            "Image at index 3192: Shape = (28, 28)\n",
            "Image at index 3193: Shape = (28, 28)\n",
            "Image at index 3194: Shape = (28, 28)\n",
            "Image at index 3195: Shape = (28, 28)\n",
            "Image at index 3196: Shape = (28, 28)\n",
            "Image at index 3197: Shape = (28, 28)\n",
            "Image at index 3198: Shape = (28, 28)\n",
            "Image at index 3199: Shape = (28, 28)\n",
            "Image at index 3200: Shape = (28, 28)\n",
            "Image at index 3201: Shape = (28, 28)\n",
            "Image at index 3202: Shape = (28, 28)\n",
            "Image at index 3203: Shape = (28, 28)\n",
            "Image at index 3204: Shape = (28, 28)\n",
            "Image at index 3205: Shape = (28, 28)\n",
            "Image at index 3206: Shape = (28, 28)\n",
            "Image at index 3207: Shape = (28, 28)\n",
            "Image at index 3208: Shape = (28, 28)\n",
            "Image at index 3209: Shape = (28, 28)\n",
            "Image at index 3210: Shape = (28, 28)\n",
            "Image at index 3211: Shape = (28, 28)\n",
            "Image at index 3212: Shape = (28, 28)\n",
            "Image at index 3213: Shape = (28, 28)\n",
            "Image at index 3214: Shape = (28, 28)\n",
            "Image at index 3215: Shape = (28, 28)\n",
            "Image at index 3216: Shape = (28, 28)\n",
            "Image at index 3217: Shape = (28, 28)\n",
            "Image at index 3218: Shape = (28, 28)\n",
            "Image at index 3219: Shape = (28, 28)\n",
            "Image at index 3220: Shape = (28, 28)\n",
            "Image at index 3221: Shape = (28, 28)\n",
            "Image at index 3222: Shape = (28, 28)\n",
            "Image at index 3223: Shape = (28, 28)\n",
            "Image at index 3224: Shape = (28, 28)\n",
            "Image at index 3225: Shape = (28, 28)\n",
            "Image at index 3226: Shape = (28, 28)\n",
            "Image at index 3227: Shape = (28, 28)\n",
            "Image at index 3228: Shape = (28, 28)\n",
            "Image at index 3229: Shape = (28, 28)\n",
            "Image at index 3230: Shape = (28, 28)\n",
            "Image at index 3231: Shape = (28, 28)\n",
            "Image at index 3232: Shape = (28, 28)\n",
            "Image at index 3233: Shape = (28, 28)\n",
            "Image at index 3234: Shape = (28, 28)\n",
            "Image at index 3235: Shape = (28, 28)\n",
            "Image at index 3236: Shape = (28, 28)\n",
            "Image at index 3237: Shape = (28, 28)\n",
            "Image at index 3238: Shape = (28, 28)\n",
            "Image at index 3239: Shape = (28, 28)\n",
            "Image at index 3240: Shape = (28, 28)\n",
            "Image at index 3241: Shape = (28, 28)\n",
            "Image at index 3242: Shape = (28, 28)\n",
            "Image at index 3243: Shape = (28, 28)\n",
            "Image at index 3244: Shape = (28, 28)\n",
            "Image at index 3245: Shape = (28, 28)\n",
            "Image at index 3246: Shape = (28, 28)\n",
            "Image at index 3247: Shape = (28, 28)\n",
            "Image at index 3248: Shape = (28, 28)\n",
            "Image at index 3249: Shape = (28, 28)\n",
            "Image at index 3250: Shape = (28, 28)\n",
            "Image at index 3251: Shape = (28, 28)\n",
            "Image at index 3252: Shape = (28, 28)\n",
            "Image at index 3253: Shape = (28, 28)\n",
            "Image at index 3254: Shape = (28, 28)\n",
            "Image at index 3255: Shape = (28, 28)\n",
            "Image at index 3256: Shape = (28, 28)\n",
            "Image at index 3257: Shape = (28, 28)\n",
            "Image at index 3258: Shape = (28, 28)\n",
            "Image at index 3259: Shape = (28, 28)\n",
            "Image at index 3260: Shape = (28, 28)\n",
            "Image at index 3261: Shape = (28, 28)\n",
            "Image at index 3262: Shape = (28, 28)\n",
            "Image at index 3263: Shape = (28, 28)\n",
            "Image at index 3264: Shape = (28, 28)\n",
            "Image at index 3265: Shape = (28, 28)\n",
            "Image at index 3266: Shape = (28, 28)\n",
            "Image at index 3267: Shape = (28, 28)\n",
            "Image at index 3268: Shape = (28, 28)\n",
            "Image at index 3269: Shape = (28, 28)\n",
            "Image at index 3270: Shape = (28, 28)\n",
            "Image at index 3271: Shape = (28, 28)\n",
            "Image at index 3272: Shape = (28, 28)\n",
            "Image at index 3273: Shape = (28, 28)\n",
            "Image at index 3274: Shape = (28, 28)\n",
            "Image at index 3275: Shape = (28, 28)\n",
            "Image at index 3276: Shape = (28, 28)\n",
            "Image at index 3277: Shape = (28, 28)\n",
            "Image at index 3278: Shape = (28, 28)\n",
            "Image at index 3279: Shape = (28, 28)\n",
            "Image at index 3280: Shape = (28, 28)\n",
            "Image at index 3281: Shape = (28, 28)\n",
            "Image at index 3282: Shape = (28, 28)\n",
            "Image at index 3283: Shape = (28, 28)\n",
            "Image at index 3284: Shape = (28, 28)\n",
            "Image at index 3285: Shape = (28, 28)\n",
            "Image at index 3286: Shape = (28, 28)\n",
            "Image at index 3287: Shape = (28, 28)\n",
            "Image at index 3288: Shape = (28, 28)\n",
            "Image at index 3289: Shape = (28, 28)\n",
            "Image at index 3290: Shape = (28, 28)\n",
            "Image at index 3291: Shape = (28, 28)\n",
            "Image at index 3292: Shape = (28, 28)\n",
            "Image at index 3293: Shape = (28, 28)\n",
            "Image at index 3294: Shape = (28, 28)\n",
            "Image at index 3295: Shape = (28, 28)\n",
            "Image at index 3296: Shape = (28, 28)\n",
            "Image at index 3297: Shape = (28, 28)\n",
            "Image at index 3298: Shape = (28, 28)\n",
            "Image at index 3299: Shape = (28, 28)\n",
            "Image at index 3300: Shape = (28, 28)\n",
            "Image at index 3301: Shape = (28, 28)\n",
            "Image at index 3302: Shape = (28, 28)\n",
            "Image at index 3303: Shape = (28, 28)\n",
            "Image at index 3304: Shape = (28, 28)\n",
            "Image at index 3305: Shape = (28, 28)\n",
            "Image at index 3306: Shape = (28, 28)\n",
            "Image at index 3307: Shape = (28, 28)\n",
            "Image at index 3308: Shape = (28, 28)\n",
            "Image at index 3309: Shape = (28, 28)\n",
            "Image at index 3310: Shape = (28, 28)\n",
            "Image at index 3311: Shape = (28, 28)\n",
            "Image at index 3312: Shape = (28, 28)\n",
            "Image at index 3313: Shape = (28, 28)\n",
            "Image at index 3314: Shape = (28, 28)\n",
            "Image at index 3315: Shape = (28, 28)\n",
            "Image at index 3316: Shape = (28, 28)\n",
            "Image at index 3317: Shape = (28, 28)\n",
            "Image at index 3318: Shape = (28, 28)\n",
            "Image at index 3319: Shape = (28, 28)\n",
            "Image at index 3320: Shape = (28, 28)\n",
            "Image at index 3321: Shape = (28, 28)\n",
            "Image at index 3322: Shape = (28, 28)\n",
            "Image at index 3323: Shape = (28, 28)\n",
            "Image at index 3324: Shape = (28, 28)\n",
            "Image at index 3325: Shape = (28, 28)\n",
            "Image at index 3326: Shape = (28, 28)\n",
            "Image at index 3327: Shape = (28, 28)\n",
            "Image at index 3328: Shape = (28, 28)\n",
            "Image at index 3329: Shape = (28, 28)\n",
            "Image at index 3330: Shape = (28, 28)\n",
            "Image at index 3331: Shape = (28, 28)\n",
            "Image at index 3332: Shape = (28, 28)\n",
            "Image at index 3333: Shape = (28, 28)\n",
            "Image at index 3334: Shape = (28, 28)\n",
            "Image at index 3335: Shape = (28, 28)\n",
            "Image at index 3336: Shape = (28, 28)\n",
            "Image at index 3337: Shape = (28, 28)\n",
            "Image at index 3338: Shape = (28, 28)\n",
            "Image at index 3339: Shape = (28, 28)\n",
            "Image at index 3340: Shape = (28, 28)\n",
            "Image at index 3341: Shape = (28, 28)\n",
            "Image at index 3342: Shape = (28, 28)\n",
            "Image at index 3343: Shape = (28, 28)\n",
            "Image at index 3344: Shape = (28, 28)\n",
            "Image at index 3345: Shape = (28, 28)\n",
            "Image at index 3346: Shape = (28, 28)\n",
            "Image at index 3347: Shape = (28, 28)\n",
            "Image at index 3348: Shape = (28, 28)\n",
            "Image at index 3349: Shape = (28, 28)\n",
            "Image at index 3350: Shape = (28, 28)\n",
            "Image at index 3351: Shape = (28, 28)\n",
            "Image at index 3352: Shape = (28, 28)\n",
            "Image at index 3353: Shape = (28, 28)\n",
            "Image at index 3354: Shape = (28, 28)\n",
            "Image at index 3355: Shape = (28, 28)\n",
            "Image at index 3356: Shape = (28, 28)\n",
            "Image at index 3357: Shape = (28, 28)\n",
            "Image at index 3358: Shape = (28, 28)\n",
            "Image at index 3359: Shape = (28, 28)\n",
            "Image at index 3360: Shape = (28, 28)\n",
            "Image at index 3361: Shape = (28, 28)\n",
            "Image at index 3362: Shape = (28, 28)\n",
            "Image at index 3363: Shape = (28, 28)\n",
            "Image at index 3364: Shape = (28, 28)\n",
            "Image at index 3365: Shape = (28, 28)\n",
            "Image at index 3366: Shape = (28, 28)\n",
            "Image at index 3367: Shape = (28, 28)\n",
            "Image at index 3368: Shape = (28, 28)\n",
            "Image at index 3369: Shape = (28, 28)\n",
            "Image at index 3370: Shape = (28, 28)\n",
            "Image at index 3371: Shape = (28, 28)\n",
            "Image at index 3372: Shape = (28, 28)\n",
            "Image at index 3373: Shape = (28, 28)\n",
            "Image at index 3374: Shape = (28, 28)\n",
            "Image at index 3375: Shape = (28, 28)\n",
            "Image at index 3376: Shape = (28, 28)\n",
            "Image at index 3377: Shape = (28, 28)\n",
            "Image at index 3378: Shape = (28, 28)\n",
            "Image at index 3379: Shape = (28, 28)\n",
            "Image at index 3380: Shape = (28, 28)\n",
            "Image at index 3381: Shape = (28, 28)\n",
            "Image at index 3382: Shape = (28, 28)\n",
            "Image at index 3383: Shape = (28, 28)\n",
            "Image at index 3384: Shape = (28, 28)\n",
            "Image at index 3385: Shape = (28, 28)\n",
            "Image at index 3386: Shape = (28, 28)\n",
            "Image at index 3387: Shape = (28, 28)\n",
            "Image at index 3388: Shape = (28, 28)\n",
            "Image at index 3389: Shape = (28, 28)\n",
            "Image at index 3390: Shape = (28, 28)\n",
            "Image at index 3391: Shape = (28, 28)\n",
            "Image at index 3392: Shape = (28, 28)\n",
            "Image at index 3393: Shape = (28, 28)\n",
            "Image at index 3394: Shape = (28, 28)\n",
            "Image at index 3395: Shape = (28, 28)\n",
            "Image at index 3396: Shape = (28, 28)\n",
            "Image at index 3397: Shape = (28, 28)\n",
            "Image at index 3398: Shape = (28, 28)\n",
            "Image at index 3399: Shape = (28, 28)\n",
            "Image at index 3400: Shape = (28, 28)\n",
            "Image at index 3401: Shape = (28, 28)\n",
            "Image at index 3402: Shape = (28, 28)\n",
            "Image at index 3403: Shape = (28, 28)\n",
            "Image at index 3404: Shape = (28, 28)\n",
            "Image at index 3405: Shape = (28, 28)\n",
            "Image at index 3406: Shape = (28, 28)\n",
            "Image at index 3407: Shape = (28, 28)\n",
            "Image at index 3408: Shape = (28, 28)\n",
            "Image at index 3409: Shape = (28, 28)\n",
            "Image at index 3410: Shape = (28, 28)\n",
            "Image at index 3411: Shape = (28, 28)\n",
            "Image at index 3412: Shape = (28, 28)\n",
            "Image at index 3413: Shape = (28, 28)\n",
            "Image at index 3414: Shape = (28, 28)\n",
            "Image at index 3415: Shape = (28, 28)\n",
            "Image at index 3416: Shape = (28, 28)\n",
            "Image at index 3417: Shape = (28, 28)\n",
            "Image at index 3418: Shape = (28, 28)\n",
            "Image at index 3419: Shape = (28, 28)\n",
            "Image at index 3420: Shape = (28, 28)\n",
            "Image at index 3421: Shape = (28, 28)\n",
            "Image at index 3422: Shape = (28, 28)\n",
            "Image at index 3423: Shape = (28, 28)\n",
            "Image at index 3424: Shape = (28, 28)\n",
            "Image at index 3425: Shape = (28, 28)\n",
            "Image at index 3426: Shape = (28, 28)\n",
            "Image at index 3427: Shape = (28, 28)\n",
            "Image at index 3428: Shape = (28, 28)\n",
            "Image at index 3429: Shape = (28, 28)\n",
            "Image at index 3430: Shape = (28, 28)\n",
            "Image at index 3431: Shape = (28, 28)\n",
            "Image at index 3432: Shape = (28, 28)\n",
            "Image at index 3433: Shape = (28, 28)\n",
            "Image at index 3434: Shape = (28, 28)\n",
            "Image at index 3435: Shape = (28, 28)\n",
            "Image at index 3436: Shape = (28, 28)\n",
            "Image at index 3437: Shape = (28, 28)\n",
            "Image at index 3438: Shape = (28, 28)\n",
            "Image at index 3439: Shape = (28, 28)\n",
            "Image at index 3440: Shape = (28, 28)\n",
            "Image at index 3441: Shape = (28, 28)\n",
            "Image at index 3442: Shape = (28, 28)\n",
            "Image at index 3443: Shape = (28, 28)\n",
            "Image at index 3444: Shape = (28, 28)\n",
            "Image at index 3445: Shape = (28, 28)\n",
            "Image at index 3446: Shape = (28, 28)\n",
            "Image at index 3447: Shape = (28, 28)\n",
            "Image at index 3448: Shape = (28, 28)\n",
            "Image at index 3449: Shape = (28, 28)\n",
            "Image at index 3450: Shape = (28, 28)\n",
            "Image at index 3451: Shape = (28, 28)\n",
            "Image at index 3452: Shape = (28, 28)\n",
            "Image at index 3453: Shape = (28, 28)\n",
            "Image at index 3454: Shape = (28, 28)\n",
            "Image at index 3455: Shape = (28, 28)\n",
            "Image at index 3456: Shape = (28, 28)\n",
            "Image at index 3457: Shape = (28, 28)\n",
            "Image at index 3458: Shape = (28, 28)\n",
            "Image at index 3459: Shape = (28, 28)\n",
            "Image at index 3460: Shape = (28, 28)\n",
            "Image at index 3461: Shape = (28, 28)\n",
            "Image at index 3462: Shape = (28, 28)\n",
            "Image at index 3463: Shape = (28, 28)\n",
            "Image at index 3464: Shape = (28, 28)\n",
            "Image at index 3465: Shape = (28, 28)\n",
            "Image at index 3466: Shape = (28, 28)\n",
            "Image at index 3467: Shape = (28, 28)\n",
            "Image at index 3468: Shape = (28, 28)\n",
            "Image at index 3469: Shape = (28, 28)\n",
            "Image at index 3470: Shape = (28, 28)\n",
            "Image at index 3471: Shape = (28, 28)\n",
            "Image at index 3472: Shape = (28, 28)\n",
            "Image at index 3473: Shape = (28, 28)\n",
            "Image at index 3474: Shape = (28, 28)\n",
            "Image at index 3475: Shape = (28, 28)\n",
            "Image at index 3476: Shape = (28, 28)\n",
            "Image at index 3477: Shape = (28, 28)\n",
            "Image at index 3478: Shape = (28, 28)\n",
            "Image at index 3479: Shape = (28, 28)\n",
            "Image at index 3480: Shape = (28, 28)\n",
            "Image at index 3481: Shape = (28, 28)\n",
            "Image at index 3482: Shape = (28, 28)\n",
            "Image at index 3483: Shape = (28, 28)\n",
            "Image at index 3484: Shape = (28, 28)\n",
            "Image at index 3485: Shape = (28, 28)\n",
            "Image at index 3486: Shape = (28, 28)\n",
            "Image at index 3487: Shape = (28, 28)\n",
            "Image at index 3488: Shape = (28, 28)\n",
            "Image at index 3489: Shape = (28, 28)\n",
            "Image at index 3490: Shape = (28, 28)\n",
            "Image at index 3491: Shape = (28, 28)\n",
            "Image at index 3492: Shape = (28, 28)\n",
            "Image at index 3493: Shape = (28, 28)\n",
            "Image at index 3494: Shape = (28, 28)\n",
            "Image at index 3495: Shape = (28, 28)\n",
            "Image at index 3496: Shape = (28, 28)\n",
            "Image at index 3497: Shape = (28, 28)\n",
            "Image at index 3498: Shape = (28, 28)\n",
            "Image at index 3499: Shape = (28, 28)\n",
            "Image at index 3500: Shape = (28, 28)\n",
            "Image at index 3501: Shape = (28, 28)\n",
            "Image at index 3502: Shape = (28, 28)\n",
            "Image at index 3503: Shape = (28, 28)\n",
            "Image at index 3504: Shape = (28, 28)\n",
            "Image at index 3505: Shape = (28, 28)\n",
            "Image at index 3506: Shape = (28, 28)\n",
            "Image at index 3507: Shape = (28, 28)\n",
            "Image at index 3508: Shape = (28, 28)\n",
            "Image at index 3509: Shape = (28, 28)\n",
            "Image at index 3510: Shape = (28, 28)\n",
            "Image at index 3511: Shape = (28, 28)\n",
            "Image at index 3512: Shape = (28, 28)\n",
            "Image at index 3513: Shape = (28, 28)\n",
            "Image at index 3514: Shape = (28, 28)\n",
            "Image at index 3515: Shape = (28, 28)\n",
            "Image at index 3516: Shape = (28, 28)\n",
            "Image at index 3517: Shape = (28, 28)\n",
            "Image at index 3518: Shape = (28, 28)\n",
            "Image at index 3519: Shape = (28, 28)\n",
            "Image at index 3520: Shape = (28, 28)\n",
            "Image at index 3521: Shape = (28, 28)\n",
            "Image at index 3522: Shape = (28, 28)\n",
            "Image at index 3523: Shape = (28, 28)\n",
            "Image at index 3524: Shape = (28, 28)\n",
            "Image at index 3525: Shape = (28, 28)\n",
            "Image at index 3526: Shape = (28, 28)\n",
            "Image at index 3527: Shape = (28, 28)\n",
            "Image at index 3528: Shape = (28, 28)\n",
            "Image at index 3529: Shape = (28, 28)\n",
            "Image at index 3530: Shape = (28, 28)\n",
            "Image at index 3531: Shape = (28, 28)\n",
            "Image at index 3532: Shape = (28, 28)\n",
            "Image at index 3533: Shape = (28, 28)\n",
            "Image at index 3534: Shape = (28, 28)\n",
            "Image at index 3535: Shape = (28, 28)\n",
            "Image at index 3536: Shape = (28, 28)\n",
            "Image at index 3537: Shape = (28, 28)\n",
            "Image at index 3538: Shape = (28, 28)\n",
            "Image at index 3539: Shape = (28, 28)\n",
            "Image at index 3540: Shape = (28, 28)\n",
            "Image at index 3541: Shape = (28, 28)\n",
            "Image at index 3542: Shape = (28, 28)\n",
            "Image at index 3543: Shape = (28, 28)\n",
            "Image at index 3544: Shape = (28, 28)\n",
            "Image at index 3545: Shape = (28, 28)\n",
            "Image at index 3546: Shape = (28, 28)\n",
            "Image at index 3547: Shape = (28, 28)\n",
            "Image at index 3548: Shape = (28, 28)\n",
            "Image at index 3549: Shape = (28, 28)\n",
            "Image at index 3550: Shape = (28, 28)\n",
            "Image at index 3551: Shape = (28, 28)\n",
            "Image at index 3552: Shape = (28, 28)\n",
            "Image at index 3553: Shape = (28, 28)\n",
            "Image at index 3554: Shape = (28, 28)\n",
            "Image at index 3555: Shape = (28, 28)\n",
            "Image at index 3556: Shape = (28, 28)\n",
            "Image at index 3557: Shape = (28, 28)\n",
            "Image at index 3558: Shape = (28, 28)\n",
            "Image at index 3559: Shape = (28, 28)\n",
            "Image at index 3560: Shape = (28, 28)\n",
            "Image at index 3561: Shape = (28, 28)\n",
            "Image at index 3562: Shape = (28, 28)\n",
            "Image at index 3563: Shape = (28, 28)\n",
            "Image at index 3564: Shape = (28, 28)\n",
            "Image at index 3565: Shape = (28, 28)\n",
            "Image at index 3566: Shape = (28, 28)\n",
            "Image at index 3567: Shape = (28, 28)\n",
            "Image at index 3568: Shape = (28, 28)\n",
            "Image at index 3569: Shape = (28, 28)\n",
            "Image at index 3570: Shape = (28, 28)\n",
            "Image at index 3571: Shape = (28, 28)\n",
            "Image at index 3572: Shape = (28, 28)\n",
            "Image at index 3573: Shape = (28, 28)\n",
            "Image at index 3574: Shape = (28, 28)\n",
            "Image at index 3575: Shape = (28, 28)\n",
            "Image at index 3576: Shape = (28, 28)\n",
            "Image at index 3577: Shape = (28, 28)\n",
            "Image at index 3578: Shape = (28, 28)\n",
            "Image at index 3579: Shape = (28, 28)\n",
            "Image at index 3580: Shape = (28, 28)\n",
            "Image at index 3581: Shape = (28, 28)\n",
            "Image at index 3582: Shape = (28, 28)\n",
            "Image at index 3583: Shape = (28, 28)\n",
            "Image at index 3584: Shape = (28, 28)\n",
            "Image at index 3585: Shape = (28, 28)\n",
            "Image at index 3586: Shape = (28, 28)\n",
            "Image at index 3587: Shape = (28, 28)\n",
            "Image at index 3588: Shape = (28, 28)\n",
            "Image at index 3589: Shape = (28, 28)\n",
            "Image at index 3590: Shape = (28, 28)\n",
            "Image at index 3591: Shape = (28, 28)\n",
            "Image at index 3592: Shape = (28, 28)\n",
            "Image at index 3593: Shape = (28, 28)\n",
            "Image at index 3594: Shape = (28, 28)\n",
            "Image at index 3595: Shape = (28, 28)\n",
            "Image at index 3596: Shape = (28, 28)\n",
            "Image at index 3597: Shape = (28, 28)\n",
            "Image at index 3598: Shape = (28, 28)\n",
            "Image at index 3599: Shape = (28, 28)\n",
            "Image at index 3600: Shape = (28, 28)\n",
            "Image at index 3601: Shape = (28, 28)\n",
            "Image at index 3602: Shape = (28, 28)\n",
            "Image at index 3603: Shape = (28, 28)\n",
            "Image at index 3604: Shape = (28, 28)\n",
            "Image at index 3605: Shape = (28, 28)\n",
            "Image at index 3606: Shape = (28, 28)\n",
            "Image at index 3607: Shape = (28, 28)\n",
            "Image at index 3608: Shape = (28, 28)\n",
            "Image at index 3609: Shape = (28, 28)\n",
            "Image at index 3610: Shape = (28, 28)\n",
            "Image at index 3611: Shape = (28, 28)\n",
            "Image at index 3612: Shape = (28, 28)\n",
            "Image at index 3613: Shape = (28, 28)\n",
            "Image at index 3614: Shape = (28, 28)\n",
            "Image at index 3615: Shape = (28, 28)\n",
            "Image at index 3616: Shape = (28, 28)\n",
            "Image at index 3617: Shape = (28, 28)\n",
            "Image at index 3618: Shape = (28, 28)\n",
            "Image at index 3619: Shape = (28, 28)\n",
            "Image at index 3620: Shape = (28, 28)\n",
            "Image at index 3621: Shape = (28, 28)\n",
            "Image at index 3622: Shape = (28, 28)\n",
            "Image at index 3623: Shape = (28, 28)\n",
            "Image at index 3624: Shape = (28, 28)\n",
            "Image at index 3625: Shape = (28, 28)\n",
            "Image at index 3626: Shape = (28, 28)\n",
            "Image at index 3627: Shape = (28, 28)\n",
            "Image at index 3628: Shape = (28, 28)\n",
            "Image at index 3629: Shape = (28, 28)\n",
            "Image at index 3630: Shape = (28, 28)\n",
            "Image at index 3631: Shape = (28, 28)\n",
            "Image at index 3632: Shape = (28, 28)\n",
            "Image at index 3633: Shape = (28, 28)\n",
            "Image at index 3634: Shape = (28, 28)\n",
            "Image at index 3635: Shape = (28, 28)\n",
            "Image at index 3636: Shape = (28, 28)\n",
            "Image at index 3637: Shape = (28, 28)\n",
            "Image at index 3638: Shape = (28, 28)\n",
            "Image at index 3639: Shape = (28, 28)\n",
            "Image at index 3640: Shape = (28, 28)\n",
            "Image at index 3641: Shape = (28, 28)\n",
            "Image at index 3642: Shape = (28, 28)\n",
            "Image at index 3643: Shape = (28, 28)\n",
            "Image at index 3644: Shape = (28, 28)\n",
            "Image at index 3645: Shape = (28, 28)\n",
            "Image at index 3646: Shape = (28, 28)\n",
            "Image at index 3647: Shape = (28, 28)\n",
            "Image at index 3648: Shape = (28, 28)\n",
            "Image at index 3649: Shape = (28, 28)\n",
            "Image at index 3650: Shape = (28, 28)\n",
            "Image at index 3651: Shape = (28, 28)\n",
            "Image at index 3652: Shape = (28, 28)\n",
            "Image at index 3653: Shape = (28, 28)\n",
            "Image at index 3654: Shape = (28, 28)\n",
            "Image at index 3655: Shape = (28, 28)\n",
            "Image at index 3656: Shape = (28, 28)\n",
            "Image at index 3657: Shape = (28, 28)\n",
            "Image at index 3658: Shape = (28, 28)\n",
            "Image at index 3659: Shape = (28, 28)\n",
            "Image at index 3660: Shape = (28, 28)\n",
            "Image at index 3661: Shape = (28, 28)\n",
            "Image at index 3662: Shape = (28, 28)\n",
            "Image at index 3663: Shape = (28, 28)\n",
            "Image at index 3664: Shape = (28, 28)\n",
            "Image at index 3665: Shape = (28, 28)\n",
            "Image at index 3666: Shape = (28, 28)\n",
            "Image at index 3667: Shape = (28, 28)\n",
            "Image at index 3668: Shape = (28, 28)\n",
            "Image at index 3669: Shape = (28, 28)\n",
            "Image at index 3670: Shape = (28, 28)\n",
            "Image at index 3671: Shape = (28, 28)\n",
            "Image at index 3672: Shape = (28, 28)\n",
            "Image at index 3673: Shape = (28, 28)\n",
            "Image at index 3674: Shape = (28, 28)\n",
            "Image at index 3675: Shape = (28, 28)\n",
            "Image at index 3676: Shape = (28, 28)\n",
            "Image at index 3677: Shape = (28, 28)\n",
            "Image at index 3678: Shape = (28, 28)\n",
            "Image at index 3679: Shape = (28, 28)\n",
            "Image at index 3680: Shape = (28, 28)\n",
            "Image at index 3681: Shape = (28, 28)\n",
            "Image at index 3682: Shape = (28, 28)\n",
            "Image at index 3683: Shape = (28, 28)\n",
            "Image at index 3684: Shape = (28, 28)\n",
            "Image at index 3685: Shape = (28, 28)\n",
            "Image at index 3686: Shape = (28, 28)\n",
            "Image at index 3687: Shape = (28, 28)\n",
            "Image at index 3688: Shape = (28, 28)\n",
            "Image at index 3689: Shape = (28, 28)\n",
            "Image at index 3690: Shape = (28, 28)\n",
            "Image at index 3691: Shape = (28, 28)\n",
            "Image at index 3692: Shape = (28, 28)\n",
            "Image at index 3693: Shape = (28, 28)\n",
            "Image at index 3694: Shape = (28, 28)\n",
            "Image at index 3695: Shape = (28, 28)\n",
            "Image at index 3696: Shape = (28, 28)\n",
            "Image at index 3697: Shape = (28, 28)\n",
            "Image at index 3698: Shape = (28, 28)\n"
          ]
        }
      ]
    },
    {
      "cell_type": "markdown",
      "source": [
        "# **Data Preprocessing**"
      ],
      "metadata": {
        "id": "MckHYVbHXhj-"
      }
    },
    {
      "cell_type": "markdown",
      "source": [
        "## 1. Picture Rotation"
      ],
      "metadata": {
        "id": "1U5qHo5qFJ5Q"
      }
    },
    {
      "cell_type": "code",
      "source": [
        "# def correct_image_orientation(image_path):\n",
        "#     img = cv2.imread(image_path)\n",
        "#     height, width = img.shape[:2]\n",
        "\n",
        "#     if height > width:\n",
        "#         rotated_img = cv2.rotate(img, cv2.ROTATE_90_CLOCKWISE)\n",
        "#         cv2.imwrite(image_path, rotated_img)\n",
        "\n",
        "# def process_images_in_directory(root_dir):\n",
        "#     for root, dirs, files in os.walk(root_dir):\n",
        "#         for file in files:\n",
        "#             if file.endswith('.png'):\n",
        "#                 image_path = os.path.join(root, file)\n",
        "#                 correct_image_orientation(image_path)\n",
        "\n"
      ],
      "metadata": {
        "id": "RTZgkwpAFFJM"
      },
      "execution_count": null,
      "outputs": []
    },
    {
      "cell_type": "code",
      "source": [
        "# root_directory = 'drive/  __MACOSX/  sample_data/  trafficsigns_dataset/'\n",
        "# process_images_in_directory(root_directory)"
      ],
      "metadata": {
        "id": "MbGGp11nFGc8"
      },
      "execution_count": null,
      "outputs": []
    },
    {
      "cell_type": "code",
      "source": [
        "# ls"
      ],
      "metadata": {
        "id": "SeuWZChRFG4k"
      },
      "execution_count": null,
      "outputs": []
    },
    {
      "cell_type": "markdown",
      "source": [
        "## 2. Encode Labels"
      ],
      "metadata": {
        "id": "EfFGzuATYnVL"
      }
    },
    {
      "cell_type": "code",
      "source": [
        "df['label'].unique()"
      ],
      "metadata": {
        "id": "3dDj6zSHqvne"
      },
      "execution_count": null,
      "outputs": []
    },
    {
      "cell_type": "code",
      "source": [],
      "metadata": {
        "id": "JyJXdkF_q2nH"
      },
      "execution_count": null,
      "outputs": []
    },
    {
      "cell_type": "code",
      "source": [
        "df[df['encode_label'].isnull()]"
      ],
      "metadata": {
        "id": "BRXyygbwrthV"
      },
      "execution_count": null,
      "outputs": []
    },
    {
      "cell_type": "markdown",
      "source": [
        "## 3. Normalize?"
      ],
      "metadata": {
        "id": "_lnScAcaKirb"
      }
    },
    {
      "cell_type": "markdown",
      "source": [
        "# **Encode the images as arrays**"
      ],
      "metadata": {
        "id": "UtQ_lUOQbxhu"
      }
    },
    {
      "cell_type": "code",
      "source": [
        "X  = []\n",
        "for image_path in df['image name']:\n",
        "    image = cv2.imread(str(image_path))\n",
        "    image_gray = cv2.cvtColor(image, cv2.COLOR_BGR2GRAY)  # Convert to grayscale\n",
        "    image_gray = cv2.resize(image_gray, (100, 100))  # Resize\n",
        "    image_gray = image_gray / 255.0  # Normalize pixel values\n",
        "    X .append(image_gray)\n",
        "\n",
        "# Display the first grayscale image\n",
        "plt.imshow(X [0], cmap='gray')\n",
        "plt.show()\n"
      ],
      "metadata": {
        "id": "2IU2TTw8b8ZZ",
        "outputId": "2792b290-0bbc-409e-f0c7-9539b8b121f5",
        "colab": {
          "base_uri": "https://localhost:8080/",
          "height": 433
        }
      },
      "execution_count": 29,
      "outputs": [
        {
          "output_type": "display_data",
          "data": {
            "text/plain": [
              "<Figure size 640x480 with 1 Axes>"
            ],
            "image/png": "[encoded data removed]"
          },
          "metadata": {}
        }
      ]
    },
    {
      "cell_type": "code",
      "source": [
        "len(X)\n",
        "X[:2]"
      ],
      "metadata": {
        "id": "c2UwGaNCeDwf"
      },
      "execution_count": null,
      "outputs": []
    },
    {
      "cell_type": "code",
      "source": [
        "len(X)"
      ],
      "metadata": {
        "id": "ybdXDgXL_LwW",
        "outputId": "cbe36a50-5118-4f1a-d06f-e013288510e5",
        "colab": {
          "base_uri": "https://localhost:8080/"
        }
      },
      "execution_count": 25,
      "outputs": [
        {
          "output_type": "execute_result",
          "data": {
            "text/plain": [
              "3699"
            ]
          },
          "metadata": {},
          "execution_count": 25
        }
      ]
    },
    {
      "cell_type": "markdown",
      "source": [
        "# **Splitting into train and test sets**"
      ],
      "metadata": {
        "id": "3Fxk1zJOtuBk"
      }
    },
    {
      "cell_type": "code",
      "source": [
        "from sklearn.model_selection import train_test_split\n",
        "\n",
        "# Splitting the data into train set (70%), validation set (10%), and test set (20%)\n",
        "train_data, test_data = train_test_split(df, test_size=0.2, random_state=45)\n",
        "train_data, val_data = train_test_split(train_data, test_size=0.125, random_state=45) # So there is more training data\n",
        "\n",
        "print(\"Train data : {}, Val Data: {}, Test Data: {}\".format(train_data.shape[0], val_data.shape[0], test_data.shape[0]))"
      ],
      "metadata": {
        "id": "yN2JBrjvp_j_"
      },
      "execution_count": null,
      "outputs": []
    },
    {
      "cell_type": "markdown",
      "source": [
        "# **Base model**"
      ],
      "metadata": {
        "id": "A86gYwTuvcqS"
      }
    },
    {
      "cell_type": "code",
      "source": [
        "from keras import layers\n",
        "import keras\n",
        "\n",
        "# Initialise\n",
        "rotator_flipper = keras.Sequential([\n",
        "  layers.RandomFlip(\"horizontal_and_vertical\"),\n",
        "  layers.RandomRotation(0.4),\n",
        "])"
      ],
      "metadata": {
        "id": "NY-j24Nvvccz"
      },
      "execution_count": null,
      "outputs": []
    },
    {
      "cell_type": "code",
      "source": [
        "model = tf.keras.Sequential([\n",
        "    # Apply augmentation buy adding it to model layer\n",
        "    rotator_flipper,\n",
        "    tf.keras.layers.Flatten(input_shape=(28,28,3)),\n",
        "    tf.keras.layers.Dense(256, activation='sigmoid'),\n",
        "    tf.keras.layers.Dense(16)\n",
        "])\n",
        "model.compile(optimizer='SGD',\n",
        "              loss=tf.keras.losses.CategoricalCrossentropy(from_logits=True),\n",
        "              metrics=['categorical_accuracy'])"
      ],
      "metadata": {
        "id": "wnaBtcqzwCfB"
      },
      "execution_count": null,
      "outputs": []
    },
    {
      "cell_type": "code",
      "source": [
        "train_data['label'] = train_data['label'].astype('str')\n",
        "val_data['label'] = val_data['label'].astype('str')"
      ],
      "metadata": {
        "id": "abso5RGwzpyg"
      },
      "execution_count": null,
      "outputs": []
    },
    {
      "cell_type": "code",
      "source": [
        "from tensorflow.keras.preprocessing.image import ImageDataGenerator\n",
        "\n",
        "train_datagen = ImageDataGenerator(rescale=1./255, data_format='channels_last')\n",
        "val_datagen = ImageDataGenerator(rescale=1./255, data_format='channels_last')\n",
        "\n",
        "batch_size = 32\n",
        "\n",
        "train_generator = train_datagen.flow_from_dataframe(\n",
        "        dataframe=train_data,\n",
        "        directory='./',\n",
        "        x_col=\"image name\",\n",
        "        y_col=\"label\",\n",
        "        target_size=(32, 32),\n",
        "        batch_size=batch_size,\n",
        "        class_mode='categorical')\n",
        "\n",
        "validation_generator = val_datagen.flow_from_dataframe(\n",
        "        dataframe=val_data,\n",
        "        directory='./',\n",
        "        x_col=\"image name\",\n",
        "        y_col=\"label\",\n",
        "        target_size=(32, 32),\n",
        "        batch_size=batch_size,\n",
        "        class_mode='categorical')"
      ],
      "metadata": {
        "id": "3o2wIYJ01FEn"
      },
      "execution_count": null,
      "outputs": []
    },
    {
      "cell_type": "code",
      "source": [
        "history = model.fit_generator(train_generator, validation_data = validation_generator, epochs=50, verbose=0)"
      ],
      "metadata": {
        "id": "rXiLry411VUy"
      },
      "execution_count": null,
      "outputs": []
    },
    {
      "cell_type": "markdown",
      "source": [
        "## Learning Curve"
      ],
      "metadata": {
        "id": "1JdgTIhg1h1y"
      }
    },
    {
      "cell_type": "code",
      "source": [
        "import matplotlib.pyplot as plt\n",
        "def plot_learning_curve(train_loss, val_loss, train_metric, val_metric, metric_name='Accuracy'):\n",
        "    plt.figure(figsize=(10,5))\n",
        "\n",
        "    plt.subplot(1,2,1)\n",
        "    plt.plot(train_loss, 'r--')\n",
        "    plt.plot(val_loss, 'b--')\n",
        "    plt.xlabel(\"epochs\")\n",
        "    plt.ylabel(\"Loss\")\n",
        "    plt.legend(['train', 'val'], loc='upper left')\n",
        "\n",
        "    plt.subplot(1,2,2)\n",
        "    plt.plot(train_metric, 'r--')\n",
        "    plt.plot(val_metric, 'b--')\n",
        "    plt.xlabel(\"epochs\")\n",
        "    plt.ylabel(metric_name)\n",
        "    plt.legend(['train', 'val'], loc='upper left')\n",
        "\n",
        "    plt.show()"
      ],
      "metadata": {
        "id": "_KQpy3fd1m-f"
      },
      "execution_count": null,
      "outputs": []
    },
    {
      "cell_type": "code",
      "source": [
        "plot_learning_curve(history.history['loss'], history.history['val_loss'],\n",
        "                    history.history['categorical_accuracy'], history.history['val_categorical_accuracy'],\n",
        "                    metric_name='Accuracy')"
      ],
      "metadata": {
        "id": "IjnVbmZ-1nea"
      },
      "execution_count": null,
      "outputs": []
    },
    {
      "cell_type": "markdown",
      "source": [
        "# **Testing final model**"
      ],
      "metadata": {
        "id": "E3x1UMeT8Z7-"
      }
    },
    {
      "cell_type": "code",
      "source": [
        "test_data['label'] = test_data['label'].astype('str')\n",
        "\n",
        "test_datagen = ImageDataGenerator(rescale=1./255, data_format='channels_last')\n",
        "\n",
        "batch_size = 1\n",
        "\n",
        "test_generator = test_datagen.flow_from_dataframe(\n",
        "        dataframe=test_data,\n",
        "        directory='./',\n",
        "        x_col=\"image name\",\n",
        "        y_col=\"label\",\n",
        "        target_size=(32, 32),\n",
        "        batch_size=batch_size,\n",
        "        class_mode='categorical')"
      ],
      "metadata": {
        "id": "nYGUy40W8c4o"
      },
      "execution_count": null,
      "outputs": []
    },
    {
      "cell_type": "code",
      "source": [
        "model.evaluate(test_generator)"
      ],
      "metadata": {
        "id": "R4hXPLrv8q_N"
      },
      "execution_count": null,
      "outputs": []
    },
    {
      "cell_type": "markdown",
      "source": [
        "# **Visualising predictions**"
      ],
      "metadata": {
        "id": "Kn0ooJ758H1R"
      }
    },
    {
      "cell_type": "code",
      "source": [
        "sorted(df['label'].unique())"
      ],
      "metadata": {
        "id": "Cd0F4QXL-Nfq"
      },
      "execution_count": null,
      "outputs": []
    },
    {
      "cell_type": "code",
      "source": [
        "sign_labels = {\n",
        "    'diamond/rightofway':0,\n",
        " 'hex/stop':1,\n",
        " 'round/bicycle':2,\n",
        " 'round/limitedtraffic':3,\n",
        " 'round/noentry':4,\n",
        " 'round/noparking':5,\n",
        " 'round/roundabout':6,\n",
        " 'round/speed':7,\n",
        " 'round/trafficdirective':8,\n",
        " 'round/traveldirection':9,\n",
        " 'square/continue':10,\n",
        " 'square/crossing':11,\n",
        " 'square/laneend':12,\n",
        " 'square/parking':13,\n",
        " 'triangle/giveway':14,\n",
        " 'triangle/warning':15\n",
        "}"
      ],
      "metadata": {
        "id": "JGAqmiYnAZud"
      },
      "execution_count": null,
      "outputs": []
    },
    {
      "cell_type": "code",
      "source": [
        "import numpy as np\n",
        "\n",
        "d_inv = {v: k for k, v in sign_labels.items()}\n",
        "plt.figure(figsize=(30,3))\n",
        "batches = 0\n",
        "for x,y in test_generator:\n",
        "        batches = batches + 1\n",
        "        y_hat = model.predict(x, verbose=0)\n",
        "        x = np.squeeze(x)\n",
        "        if batches < 4:\n",
        "            plt.subplot(1,5,batches)\n",
        "            plt.imshow(x)\n",
        "            plt.title(\"GT-{}, Pred-{}\".format(d_inv[np.argmax(y[0])], d_inv[np.argmax(y_hat[0])] ))\n",
        "\n",
        "        else:\n",
        "            break\n",
        "\n",
        "        plt.axis('off')"
      ],
      "metadata": {
        "id": "oiKBMDjx8G4m"
      },
      "execution_count": null,
      "outputs": []
    },
    {
      "cell_type": "markdown",
      "source": [],
      "metadata": {
        "id": "XDkLRefOHe4D"
      }
    },
    {
      "cell_type": "markdown",
      "source": [
        "#CNN\n",
        "Classify images according to sign-shape, such as diamond, hex, rectangle, round, triangle."
      ],
      "metadata": {
        "id": "TlpBdbgLH01r"
      }
    },
    {
      "cell_type": "code",
      "source": [
        "from tensorflow.keras.models import Sequential\n",
        "from tensorflow.keras.layers import Conv2D\n",
        "from tensorflow.keras import regularizers\n",
        "\n",
        "from tensorflow.keras import datasets, layers, models\n"
      ],
      "metadata": {
        "id": "RIxTU1q-IQYp"
      },
      "execution_count": null,
      "outputs": []
    },
    {
      "cell_type": "code",
      "source": [
        "model = models.Sequential()\n",
        "model.add(layers.Conv2D(32, (3, 3), kernel_regularizer=regularizers.l2(0.001), input_shape=(28, 28, 3)))\n",
        "model.add(layers.MaxPooling2D((2, 2)))\n",
        "model.add(layers.Conv2D(64, (3, 3), activation='relu'))\n",
        "model.add(layers.MaxPooling2D((2, 2)))\n",
        "model.add(layers.Conv2D(64, (3, 3), activation='relu'))"
      ],
      "metadata": {
        "id": "e70PWHOGHwtZ"
      },
      "execution_count": null,
      "outputs": []
    },
    {
      "cell_type": "code",
      "source": [
        "model.summary()"
      ],
      "metadata": {
        "id": "OvMs3QuHICSQ"
      },
      "execution_count": null,
      "outputs": []
    },
    {
      "cell_type": "code",
      "source": [
        "model.add(layers.Flatten())\n",
        "model.add(layers.Dense(64, activation='relu'))\n",
        "model.add(layers.Dense(10))"
      ],
      "metadata": {
        "id": "rf2vLbrRH2yN"
      },
      "execution_count": null,
      "outputs": []
    },
    {
      "cell_type": "code",
      "source": [
        "model.summary()"
      ],
      "metadata": {
        "id": "0KU-G0q4Pk7V"
      },
      "execution_count": null,
      "outputs": []
    },
    {
      "cell_type": "code",
      "source": [
        "\n",
        "# Define your train, validation, and test images and labels\n",
        "train_images = np.array(train_data['image name'].tolist())\n",
        "train_labels = np.array(train_data['label'].tolist())\n",
        "\n",
        "val_images = np.array(val_data['image name'].tolist())\n",
        "val_labels = np.array(val_data['label'].tolist())\n",
        "\n",
        "test_images = np.array(test_data['image name'].tolist())\n",
        "test_labels = np.array(test_data['label'].tolist())\n",
        "\n",
        "# Compile the model\n",
        "model.compile(optimizer='adam',\n",
        "              loss=tf.keras.losses.SparseCategoricalCrossentropy(from_logits=True),\n",
        "              metrics=['accuracy'])\n",
        "\n",
        "# # Fit the model\n",
        "history = model.fit(train_images, train_labels, epochs=10,\n",
        "                    validation_data=(val_images, val_labels))"
      ],
      "metadata": {
        "id": "ReMHTEwQPl5H"
      },
      "execution_count": null,
      "outputs": []
    }
  ]
}